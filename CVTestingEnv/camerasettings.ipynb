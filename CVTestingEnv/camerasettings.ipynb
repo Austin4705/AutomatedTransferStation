{
 "cells": [
  {
   "cell_type": "code",
   "execution_count": 2,
   "metadata": {},
   "outputs": [],
   "source": [
    "import asyncio\n",
    "import threading\n",
    "import scripts\n",
    "import json\n",
    "import time\n",
    "import os\n",
    "import cv2\n",
    "import numpy as np\n",
    "from matplotlib import pyplot as plt\n",
    "import sklearn.cluster\n",
    "import skimage\n",
    "from skimage import morphology\n",
    "import argparse\n",
    "import matplotlib.cm as cm\n",
    "\n",
    "from GMMDetector import MaterialDetector\n",
    "\n",
    "import tisgrabber"
   ]
  },
  {
   "cell_type": "code",
   "execution_count": 7,
   "metadata": {},
   "outputs": [],
   "source": [
    "# Initialize video capture from default camera (usually 0)\n",
    "cap = cv2.VideoCapture(1, cv2.CAP_DSHOW)\n",
    "\n",
    "# Check if camera opened successfully\n",
    "if not cap.isOpened():\n",
    "    print(\"Error: Could not open camera\")\n",
    "    exit()\n",
    "cap.set(cv2.CAP_PROP_FRAME_WIDTH, 2048)\n",
    "cap.set(cv2.CAP_PROP_FRAME_HEIGHT, 1536)\n",
    "ret, frame = cap.read()\n",
    "cap.set(cv2.CAP_PROP_FRAME_WIDTH, 2048)\n",
    "cap.set(cv2.CAP_PROP_FRAME_HEIGHT, 1536)\n",
    "counter = 0\n",
    "pic_counter = 1000\n",
    "while True:\n",
    "    # Capture frame-by-frame\n",
    "    ret, frame = cap.read()\n",
    "    # if counter % pic_counter == 0:\n",
    "        # cap.set(cv2.CAP_PROP_FRAME_WIDTH, 2048)\n",
    "        # cap.set(cv2.CAP_PROP_FRAME_HEIGHT, 1536)\n",
    "    counter += 1\n",
    "\n",
    "    \n",
    "    # If frame is read correctly ret is True\n",
    "    if not ret:\n",
    "        print(\"Error: Can't receive frame\")\n",
    "        break\n",
    "    \n",
    "    cv2.imshow('Video Stream', frame)\n",
    "\n",
    "    # Press 'q' to exit\n",
    "    if cv2.waitKey(1) & 0xFF == ord('q'):\n",
    "        break\n",
    "\n",
    "# When everything is done, release the capture and destroy windows\n",
    "cap.release()\n",
    "cv2.destroyAllWindows()\n"
   ]
  }
 ],
 "metadata": {
  "kernelspec": {
   "display_name": "automatedTransfer",
   "language": "python",
   "name": "python3"
  },
  "language_info": {
   "codemirror_mode": {
    "name": "ipython",
    "version": 3
   },
   "file_extension": ".py",
   "mimetype": "text/x-python",
   "name": "python",
   "nbconvert_exporter": "python",
   "pygments_lexer": "ipython3",
   "version": "3.11.9"
  }
 },
 "nbformat": 4,
 "nbformat_minor": 2
}
